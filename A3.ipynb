{
 "cells": [
  {
   "cell_type": "markdown",
   "metadata": {},
   "source": [
    "## CS431/631 Data Intensive Distributed Analytics\n",
    "### Winter 2019 - Assignment 3\n",
    "---"
   ]
  },
  {
   "cell_type": "markdown",
   "metadata": {},
   "source": [
    "**Please edit this (text) cell to provide your name and UW student ID number!**\n",
    "* **Name:** Hao Dong\n",
    "* **ID:** 2269784096"
   ]
  },
  {
   "cell_type": "markdown",
   "metadata": {},
   "source": [
    "---\n",
    "#### Overview\n",
    "For this assignment, you will be using Python and Spark to perform some graph analysis, using a graph of the Gnutella server network.   In this graph, each node represents a server, and each (directed) edge represents a connection between servers in Gnutella's peer-to-peer network.  The input file for this assignment, `p2p-Gnutella08-adj.txt`, represents the graph as an adjacency list.   Each server (node) is identified by a unique number, and each line in the file gives the adjacency list for a single server.\n",
    "For example, this line:\n",
    "> 91\t243\t1923\t2194\n",
    "\n",
    "gives the adjacency list for server `91`.   It indicates that there are edges from server `91` to servers `243`, `1923`, and `2194`.    According to the Stanford Network Analysis Project, which collected these data, [the graph includes 6301 servers and 20777 edges](http://snap.stanford.edu/data/p2p-Gnutella08.html).\n",
    "\n",
    "As you know from the previous assignment, you must tell the Python interpreter where to find Spark before performing any Spark operations in your program.   So, start by doing that:"
   ]
  },
  {
   "cell_type": "code",
   "execution_count": 1,
   "metadata": {},
   "outputs": [],
   "source": [
    "import findspark\n",
    "findspark.init(\"/u/cs451/packages/spark\")\n",
    "\n",
    "from pyspark import SparkContext, SparkConf"
   ]
  },
  {
   "cell_type": "markdown",
   "metadata": {},
   "source": [
    "and then create a `SparkContext`:"
   ]
  },
  {
   "cell_type": "code",
   "execution_count": 2,
   "metadata": {},
   "outputs": [],
   "source": [
    "import random\n",
    "sc = SparkContext(appName=\"YourTest\", master=\"local[2]\", conf=SparkConf().set('spark.ui.port', random.randrange(4000,5000)))"
   ]
  },
  {
   "cell_type": "markdown",
   "metadata": {},
   "source": [
    "---\n",
    "### Important\n",
    "\n",
    "###### The questions that follow ask you to implement functions whose prototypes are given to you. Do **NOT** change the prototypes of the functions. Do **NOT** write code outside of functions. All necessary code should be included in the function body (except for import statements). You may declare functions inside of the function body. When marking, we will execute your code by calling the functions from an external program, which is why your code cannot rely on statements running outside functions. Please remove any call to the functions that you may have introduced for test purposes before submitting your notebook."
   ]
  },
  {
   "cell_type": "markdown",
   "metadata": {},
   "source": [
    "---\n",
    "#### Question 1  (6/24 marks):\n",
    "\n",
    "To get warmed up, you should first write Spark code to confirm or determine some basic properties of the Gnutella graph.  Write code in the provided functions that will return answers to the following questions, as specified in each function's documentation:\n",
    "- How many nodes and edges are there in the graph?  (This should confirm the numbers given above.)\n",
    "- How many nodes of each outdegree are there? That is, how many nodes have no outgoing edges, how many have one outgoing edge, how many have two outgoing edges, and so on?\n",
    "- How many nodes of each indegree are there?\n",
    "\n",
    "You should use Spark to answer these questions.   Do *not* load the entire graph into your Python driver program."
   ]
  },
  {
   "cell_type": "code",
   "execution_count": 32,
   "metadata": {},
   "outputs": [],
   "source": [
    "from collections import defaultdict\n",
    "def num_nodes_edges():\n",
    "    \"\"\"Returns a tuple (num_nodes, num_edges)\"\"\"\n",
    "    \n",
    "    servers = sc.textFile(\"p2p-Gnutella08-adj.txt\")\n",
    "    num_nodes = servers.count()\n",
    "    num_edges = servers.map(lambda s : (s.count('\t'))).reduce(lambda a,b: a+b)\n",
    "    return (num_nodes,num_edges)\n",
    "    \n",
    "    \n",
    "def out_counts():\n",
    "    \"\"\"Returns a dictionary where the keys are the outdegrees, and the \n",
    "    values are the number of nodes of the corresponding outdegree \"\"\"\n",
    "    \n",
    "    servers = sc.textFile(\"p2p-Gnutella08-adj.txt\")\n",
    "    result = servers.map(lambda s : (s.count('\t'),s.split('\t')[0]))\\\n",
    "                  .groupByKey().collect()\n",
    "    result_dic = {}\n",
    "    for (x,y) in result:\n",
    "        result_dic[x] = len(y)\n",
    "    return result_dic\n",
    "    \n",
    "\n",
    "def in_counts():\n",
    "    \"\"\"Returns a dictionary where the keys are the indegrees, and the \n",
    "    values are the number of nodes of the corresponding indegree \"\"\"\n",
    "    \n",
    "    servers = sc.textFile(\"p2p-Gnutella08-adj.txt\")\n",
    "    result = servers.flatMap(lambda server : server.split('\t')[1:])\\\n",
    "                  .map(lambda node : (node,1))\\\n",
    "                  .reduceByKey(lambda x,y : x+y).collect()\n",
    "    result_dic = defaultdict(list)\n",
    "    for (x,y) in result:\n",
    "        result_dic[y].append(x)\n",
    "    return result_dic\n",
    "\n",
    "\n",
    "\n",
    "# num_nodes_edges()\n",
    "# out_counts()\n",
    "# in_counts()"
   ]
  },
  {
   "cell_type": "markdown",
   "metadata": {},
   "source": [
    "---\n",
    "Your main objective for this assignment is to perform *single source personalized page rank* over the Gnutella graph.  To get started, you should make sure that you have a clear understanding of ordinary (i.e., non-personalized) page rank.  Read the description of page rank in Section 5.3 of [the course textbook](http://mapreduce.cc/).   Personalized page rank is like ordinary page rank except:\n",
    "- One node in the graph is designated as the *source* node. Personalized page rank is performed with respect to that source node.\n",
    "- Personalized page rank is initialized by assigning all probability mass to the source node, and none to the other nodes. In contrast, ordinary page rank is initialized by giving all nodes the same probability mass.\n",
    "- Whenever personalized page rank makes a random jump, it jumps back to the source node. In contrast, ordinary page rank may jump to any node.\n",
    "- In personalized page rank, all probability mass lost dangling nodes is put back into the source nodes.  In ordinary page rank, lost mass is distributed evenly over all nodes.\n",
    "\n",
    "#### Question 2  (10/24 marks):\n",
    "\n",
    "Your task is to write a Spark program to perform personalized page rank over the Gnutella graph for a specified number of iterations, and of course a specific node. The function you will implement takes three input values:\n",
    "- source node id (a positive integer)\n",
    "- iteration count (a positive integer)\n",
    "- random jump factor value (a float between 0 and 1)\n",
    "\n",
    "The function should perform personalized page rank, with respect to the specified source node, over the Gnutella graph, for the specified number of iterations, using Spark.\n",
    "The output of your function should be a list of the 10 nodes with the highest personalized page rank with respect to the given source. For each of the 10 nodes, return the node's id and page rank value as a tuple. The list returned by the function should therefore look something like this: `[(node_id_1, highest_pagerank_value), ..., (node_id_10, 10th_highest_pagerank_value)]`"
   ]
  },
  {
   "cell_type": "code",
   "execution_count": 254,
   "metadata": {
    "slideshow": {
     "slide_type": "slide"
    }
   },
   "outputs": [],
   "source": [
    "from collections import OrderedDict\n",
    "def personalized_page_rank(source_node_id, num_iterations, jump_factor):\n",
    "    \"\"\"Returns a list of the 10 nodes with the highest page rank value along with their value, as tuples\n",
    "    [(node_id_1, highest_pagerank_value), ..., (node_id_10, 10th_highest_pagerank_value)]\"\"\"\n",
    "        \n",
    "    def server_split(s,source_node_id):\n",
    "        nodes = [int(x) for x in s.split('\t')]\n",
    "        if nodes[0] == source_node_id : \n",
    "            return(nodes[0],[nodes[1:],1])\n",
    "        return(nodes[0],[nodes[1:],0])\n",
    "    \n",
    "    def pprmap(s,source_node_id):\n",
    "        result = []\n",
    "        # s:{node_num,[adjacency nodes list,page rank]}\n",
    "        if len(s[1][0]) == 0:\n",
    "            result.append((source_node_id,s[1][1]))\n",
    "        else:\n",
    "            for x in s[1][0]:\n",
    "                result.append((x,s[1][1]/len(s[1][0])))\n",
    "        return result\n",
    "\n",
    "\n",
    "    servers = sc.textFile(\"p2p-Gnutella08-adj.txt\")\n",
    "    \n",
    "    # initialize nodenum, adjacency nodes list and pagerank into a dictionary node_dict\n",
    "    node_dict = servers.map(lambda s : server_split(s,source_node_id)).collectAsMap()\n",
    "    \n",
    "    #do the iterations\n",
    "    while(num_iterations > 0):\n",
    "        # calculate the pagerank of each nodes and save it into a dictionary\n",
    "        pagerank_dict = sc.parallelize(node_dict)\\\n",
    "                          .map(lambda x: (x,node_dict[x]))\\\n",
    "                          .flatMap(lambda s : pprmap(s,source_node_id))\\\n",
    "                          .reduceByKey(lambda x,y : x+y)\\\n",
    "                          .collectAsMap()\n",
    "        \n",
    "        # update node_dict\n",
    "        for nd in node_dict.keys():\n",
    "            node_dict[nd][1] = jump_factor if (nd == source_node_id) else 0\n",
    "        for pr in pagerank_dict.keys():\n",
    "            node_dict[pr][1] += (1 - jump_factor) * pagerank_dict[pr]\n",
    "\n",
    "        node_dict = OrderedDict(sorted(node_dict.items(), key=lambda e: e[1][1], reverse=True))\n",
    "        num_iterations -= 1;\n",
    "        \n",
    "#         sum = 0\n",
    "#         for x in node_dict.keys():\n",
    "#             sum += node_dict[x][1]\n",
    "        result = []\n",
    "        i = 0\n",
    "        for x in node_dict.keys():\n",
    "            result.append((x,node_dict[x][1]))\n",
    "            i += 1\n",
    "            if(i > 9):\n",
    "                break\n",
    "    return result\n",
    "\n",
    "# personalized_page_rank(0,10,0.5) \n"
   ]
  },
  {
   "cell_type": "markdown",
   "metadata": {},
   "source": [
    "---\n",
    "#### Question 3  (4/24 marks):\n",
    "\n",
    "For the previous question, you implemented personalized page rank that ran for a specified number of iterations.  However, it is also common to write iterative algorithms that run until some specified termination condition is reached.\n",
    "For example, for page rank, suppose the $p_i(x)$ represents the probability mass assigned to node $x$ after the $i$th iteration of the algorithm.  ($p_0(x)$ is the initial probability mass of node $x$.)   We define the change of $x$'s probability mass on the $i$th iteration as $\\lvert p_i(x)-p_{i-1}(x) \\rvert$.   Then, we can iterate personalized page rank until the maximum (over all nodes) change is less than a specified threshold, i.e, until all nodes' page ranks have converged.\n",
    "\n",
    "For this question, modify your personalized page rank implementation from Question 2 so that it iterates until the \n",
    "maximum node change is less than $\\frac{0.5}{N}$, where $N$ represents the number of nodes in the graph.\n",
    "This version of the function should take only two inputs: the source node id and the random jump factor.\n",
    "\n",
    "If you were unable to get personalized page rank working in Question 2, replace the code cell below with a text (Markdown) cell, and briefly describe how you *would* have modified your program to incorporate a termination condition based on maximum node change, for partial credit. "
   ]
  },
  {
   "cell_type": "code",
   "execution_count": 253,
   "metadata": {},
   "outputs": [],
   "source": [
    "from copy import deepcopy\n",
    "def personalized_page_rank_stopping_criterion(source_node_id, jump_factor):\n",
    "    \"\"\"Returns a list of the 10 nodes with the highest page rank value along with their value, as tuples\n",
    "    [(node_id_1, highest_pagerank_value), ..., (node_id_10, 10th_highest_pagerank_value)]\"\"\"\n",
    "  \n",
    "    def server_split(s,source_node_id):\n",
    "        nodes = [int(x) for x in s.split('\t')]\n",
    "        if nodes[0] == source_node_id : \n",
    "            return(nodes[0],[nodes[1:],1])\n",
    "        return(nodes[0],[nodes[1:],0])\n",
    "    \n",
    "    def pprmap(s,source_node_id):\n",
    "        result = []\n",
    "        # s:{node_num,[adjacency nodes list,page rank]}\n",
    "        if len(s[1][0]) == 0:\n",
    "            result.append((source_node_id,s[1][1]))\n",
    "        else:\n",
    "            for x in s[1][0]:\n",
    "                result.append((x,s[1][1]/len(s[1][0])))\n",
    "        return result\n",
    "\n",
    "\n",
    "    servers = sc.textFile(\"p2p-Gnutella08-adj.txt\")\n",
    "    \n",
    "    # initialize nodenum, adjacency nodes list and pagerank into a dictionary node_dict\n",
    "    node_dict = servers.map(lambda s : server_split(s,source_node_id)).collectAsMap()\n",
    "    \n",
    "    #do the iterations\n",
    "    while(True):\n",
    "        # calculate the pagerank of each nodes and save it into a dictionary\n",
    "        pagerank_dict = sc.parallelize(node_dict)\\\n",
    "                          .map(lambda x: (x,node_dict[x]))\\\n",
    "                          .flatMap(lambda s : pprmap(s,source_node_id))\\\n",
    "                          .reduceByKey(lambda x,y : x+y)\\\n",
    "                          .cache()\\\n",
    "                          .collectAsMap()\n",
    "        \n",
    "        # update pagerank according to the formula\n",
    "        new_pagerank_dict = {}\n",
    "        for nd in node_dict.keys():\n",
    "            new_pagerank_dict[nd] = jump_factor if (nd == source_node_id) else 0\n",
    "        for pr in pagerank_dict.keys():\n",
    "            new_pagerank_dict[pr] += (1 - jump_factor) * pagerank_dict[pr]\n",
    "        \n",
    "        # update node_dict and save max change \n",
    "        max_change = abs(node_dict[0][1] - new_pagerank_dict[0])\n",
    "        for nd in node_dict.keys():\n",
    "            if(abs(node_dict[nd][1] - new_pagerank_dict[nd]) > max_change):\n",
    "                max_change = abs(node_dict[nd][1] - new_pagerank_dict[nd])\n",
    "            node_dict[nd][1] = new_pagerank_dict[nd]\n",
    "        \n",
    "        # sort node_dict by pagerank\n",
    "        node_dict = OrderedDict(sorted(node_dict.items(), key=lambda e: e[1][1], reverse=True))\n",
    "\n",
    "        # print \n",
    "        result = []\n",
    "        i = 0\n",
    "        for x in node_dict.keys():\n",
    "            result.append((x,node_dict[x][1]))\n",
    "            i += 1\n",
    "            if(i > 9):\n",
    "                break\n",
    "        if (max_change < 0.5/servers.count()):\n",
    "            break\n",
    "    return result\n",
    "\n",
    "# import timeit\n",
    "# start_time = timeit.default_timer()\n",
    "# personalized_page_rank_stopping_criterion(0,0.5)\n",
    "# print(timeit.default_timer() - start_time)\n"
   ]
  },
  {
   "cell_type": "markdown",
   "metadata": {},
   "source": [
    "---\n",
    "#### Question 4  (4/24 marks):\n",
    "\n",
    "Spark provides the ability to *cache* RDDs.   This is useful when an RDD will be used more than once.   Instead of computing the same RDD multiple times, it can be computed once, cached, and then re-used from the cache.   Read about caching in the Spark textbook, or in the [persistence section of the Spark RDD programming guide](https://spark.apache.org/docs/latest/rdd-programming-guide.html#rdd-persistence).   Caching can be particularly effective for iterative Spark applications, like those you are writing for this assignment.\n",
    "\n",
    "For this question, go back to the code that you wrote to answer Question 3, and add caching.   (Caching will not affect the functionality of your code, i.e., what it computes.   It should only affect performance.)   Don't worry about different persistence levels.   Just use `cache()`, which caches RDDs at the default persistence level.\n",
    "\n",
    "In addition to adding `cache()` calls in your code, use the text cell below to briefly explain how you decided which RDDs to cache. \n",
    "\n",
    "If you were not able to finish Question 3, add caching annotations to your solution for Question 2 instead."
   ]
  },
  {
   "cell_type": "markdown",
   "metadata": {},
   "source": [
    "---\n",
    "#### Your answer to Question 4:\n",
    "\n",
    "I choose to add cache the reduceByKey() RDD. \n",
    "\n"
   ]
  },
  {
   "cell_type": "markdown",
   "metadata": {},
   "source": [
    "---\n",
    "Don't forget to save your workbook!   When you are finished and you are ready to submit your assignment, download your notebook file (.ipynb) from the hub to your machine, and then follow the submission instructions in the assignment."
   ]
  }
 ],
 "metadata": {
  "kernelspec": {
   "display_name": "Python 3",
   "language": "python",
   "name": "python3"
  },
  "language_info": {
   "codemirror_mode": {
    "name": "ipython",
    "version": 3
   },
   "file_extension": ".py",
   "mimetype": "text/x-python",
   "name": "python",
   "nbconvert_exporter": "python",
   "pygments_lexer": "ipython3",
   "version": "3.6.7"
  }
 },
 "nbformat": 4,
 "nbformat_minor": 2
}
